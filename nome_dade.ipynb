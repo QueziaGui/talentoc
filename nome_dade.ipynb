{
  "nbformat": 4,
  "nbformat_minor": 0,
  "metadata": {
    "colab": {
      "provenance": [],
      "authorship_tag": "ABX9TyOKHeS+BrlAaPfatDVp/1h6",
      "include_colab_link": true
    },
    "kernelspec": {
      "name": "python3",
      "display_name": "Python 3"
    },
    "language_info": {
      "name": "python"
    }
  },
  "cells": [
    {
      "cell_type": "markdown",
      "metadata": {
        "id": "view-in-github",
        "colab_type": "text"
      },
      "source": [
        "<a href=\"https://colab.research.google.com/github/QueziaGui/talentoc/blob/main/nome_dade.ipynb\" target=\"_parent\"><img src=\"https://colab.research.google.com/assets/colab-badge.svg\" alt=\"Open In Colab\"/></a>"
      ]
    },
    {
      "cell_type": "code",
      "execution_count": null,
      "metadata": {
        "id": "ZjYSl6aglVi5"
      },
      "outputs": [],
      "source": [
        "#ano atual\n",
        "ano_atual = 2022\n",
        "\n",
        "# nome completo\n",
        "nome = input(\"Digite seu nome completo: \")\n",
        "\n",
        "# ano de nascimento\n",
        "ano = input(\"Digite seu ano de nascimento entre 1922 e 2021: \")\n",
        "\n",
        "# Verificar se ano é válido usando a função try\n",
        "validado = False\n",
        "while not validado:\n",
        "    try:\n",
        "        ano = int(ano)\n",
        "        if ano < 1922 or ano > 2021:\n",
        "            raiseValorErrado\n",
        "        validado = True\n",
        "    except ValorErrado:\n",
        "        print(\"Ano inválido. Tente novamente.\")\n",
        "        ano = input(\"Digiteo seu ano nascimento entre 1922 e 2021: \")\n",
        "\n",
        "# Calcular a idade do usuário\n",
        "idade = ano_atual - ano\n",
        "\n",
        "# Mostrar o nome e a idade do usuário\n",
        "print(f\"Eiii, {nome}. Sua idade é ou será {idade} anos em {ano_atual}.\")\n"
      ]
    }
  ]
}