{
  "nbformat": 4,
  "nbformat_minor": 0,
  "metadata": {
    "colab": {
      "provenance": [],
      "authorship_tag": "ABX9TyO1PYvv+LxkFzbvb9DU//FG",
      "include_colab_link": true
    },
    "kernelspec": {
      "name": "python3",
      "display_name": "Python 3"
    },
    "language_info": {
      "name": "python"
    }
  },
  "cells": [
    {
      "cell_type": "markdown",
      "metadata": {
        "id": "view-in-github",
        "colab_type": "text"
      },
      "source": [
        "<a href=\"https://colab.research.google.com/github/QueziaGui/talentoc/blob/main/AtivAulaVivo23_08Untitled8.ipynb\" target=\"_parent\"><img src=\"https://colab.research.google.com/assets/colab-badge.svg\" alt=\"Open In Colab\"/></a>"
      ]
    },
    {
      "cell_type": "markdown",
      "source": [
        "Range"
      ],
      "metadata": {
        "id": "Pvot073pme1i"
      }
    },
    {
      "cell_type": "code",
      "source": [
        "for andar in range(1, 21, 1):\n",
        "\n",
        "    print(\"Passei pelo andar de número:\", andar)"
      ],
      "metadata": {
        "colab": {
          "base_uri": "https://localhost:8080/"
        },
        "id": "owEoJAcFmg7c",
        "outputId": "e2679ae6-3041-4810-c887-6561f3952604"
      },
      "execution_count": 1,
      "outputs": [
        {
          "output_type": "stream",
          "name": "stdout",
          "text": [
            "Passei pelo andar de número: 1\n",
            "Passei pelo andar de número: 2\n",
            "Passei pelo andar de número: 3\n",
            "Passei pelo andar de número: 4\n",
            "Passei pelo andar de número: 5\n",
            "Passei pelo andar de número: 6\n",
            "Passei pelo andar de número: 7\n",
            "Passei pelo andar de número: 8\n",
            "Passei pelo andar de número: 9\n",
            "Passei pelo andar de número: 10\n",
            "Passei pelo andar de número: 11\n",
            "Passei pelo andar de número: 12\n",
            "Passei pelo andar de número: 13\n",
            "Passei pelo andar de número: 14\n",
            "Passei pelo andar de número: 15\n",
            "Passei pelo andar de número: 16\n",
            "Passei pelo andar de número: 17\n",
            "Passei pelo andar de número: 18\n",
            "Passei pelo andar de número: 19\n",
            "Passei pelo andar de número: 20\n"
          ]
        }
      ]
    },
    {
      "cell_type": "code",
      "source": [
        "for i in range (15):\n",
        "  print(\"Regue a planta de número: \",i)\n"
      ],
      "metadata": {
        "colab": {
          "base_uri": "https://localhost:8080/"
        },
        "id": "n3qII3ggoQjd",
        "outputId": "9aa7b059-9824-402b-da9a-371115e32d2b"
      },
      "execution_count": 2,
      "outputs": [
        {
          "output_type": "stream",
          "name": "stdout",
          "text": [
            "Regue a planta de número:  0\n",
            "Regue a planta de número:  1\n",
            "Regue a planta de número:  2\n",
            "Regue a planta de número:  3\n",
            "Regue a planta de número:  4\n",
            "Regue a planta de número:  5\n",
            "Regue a planta de número:  6\n",
            "Regue a planta de número:  7\n",
            "Regue a planta de número:  8\n",
            "Regue a planta de número:  9\n",
            "Regue a planta de número:  10\n",
            "Regue a planta de número:  11\n",
            "Regue a planta de número:  12\n",
            "Regue a planta de número:  13\n",
            "Regue a planta de número:  14\n",
            "Regue a planta de número:  15\n",
            "Regue a planta de número:  16\n",
            "Regue a planta de número:  17\n",
            "Regue a planta de número:  18\n",
            "Regue a planta de número:  19\n",
            "Regue a planta de número:  20\n"
          ]
        }
      ]
    },
    {
      "cell_type": "markdown",
      "source": [
        "while"
      ],
      "metadata": {
        "id": "CIDlbabSpSxY"
      }
    },
    {
      "cell_type": "code",
      "source": [
        "cont = 0\n",
        "while cont < 5:\n",
        "  print(\"Regue a planta de número: \", cont)\n",
        "  cont = cont + 1"
      ],
      "metadata": {
        "colab": {
          "base_uri": "https://localhost:8080/"
        },
        "id": "-ljniSxpox0f",
        "outputId": "8fa5b148-099a-45c5-9160-a8570d2752dc"
      },
      "execution_count": 7,
      "outputs": [
        {
          "output_type": "stream",
          "name": "stdout",
          "text": [
            "Regue a planta de número:  0\n",
            "Regue a planta de número:  1\n",
            "Regue a planta de número:  2\n",
            "Regue a planta de número:  3\n",
            "Regue a planta de número:  4\n"
          ]
        }
      ]
    },
    {
      "cell_type": "markdown",
      "source": [],
      "metadata": {
        "id": "Z9lmoAnxqmdZ"
      }
    },
    {
      "cell_type": "markdown",
      "source": [],
      "metadata": {
        "id": "lQvADLUemdLs"
      }
    }
  ]
}