{
  "nbformat": 4,
  "nbformat_minor": 0,
  "metadata": {
    "colab": {
      "provenance": [],
      "authorship_tag": "ABX9TyPOARssyqzWpq0YXElil60O",
      "include_colab_link": true
    },
    "kernelspec": {
      "name": "python3",
      "display_name": "Python 3"
    },
    "language_info": {
      "name": "python"
    }
  },
  "cells": [
    {
      "cell_type": "markdown",
      "metadata": {
        "id": "view-in-github",
        "colab_type": "text"
      },
      "source": [
        "<a href=\"https://colab.research.google.com/github/QueziaGui/talentoc/blob/main/arrays.ipynb\" target=\"_parent\"><img src=\"https://colab.research.google.com/assets/colab-badge.svg\" alt=\"Open In Colab\"/></a>"
      ]
    },
    {
      "cell_type": "code",
      "execution_count": null,
      "metadata": {
        "colab": {
          "base_uri": "https://localhost:8080/"
        },
        "id": "QIAmdomzzWFa",
        "outputId": "5ac12aa7-7c07-4075-c5e9-8a02607f0d59"
      },
      "outputs": [
        {
          "output_type": "stream",
          "name": "stdout",
          "text": [
            "primeiro\n",
            "segundo\n",
            "terceiro\n"
          ]
        }
      ],
      "source": [
        "def achar_elemento(arr):\n",
        "    achou = False\n",
        "    cumprimento = len(arr)\n",
        "\n",
        "\n",
        "    for i in range(cumprimento):\n",
        "      print(arr[i])\n",
        "\n",
        "\n",
        "ordem = ['primeiro', 'segundo', 'terceiro']\n",
        "achar_elemento(ordem)\n"
      ]
    }
  ]
}