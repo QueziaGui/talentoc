{
  "cells": [
    {
      "cell_type": "markdown",
      "metadata": {
        "id": "view-in-github",
        "colab_type": "text"
      },
      "source": [
        "<a href=\"https://colab.research.google.com/github/QueziaGui/talentoc/blob/main/Controle_de_estoque.ipynb\" target=\"_parent\"><img src=\"https://colab.research.google.com/assets/colab-badge.svg\" alt=\"Open In Colab\"/></a>"
      ]
    },
    {
      "cell_type": "code",
      "execution_count": null,
      "metadata": {
        "colab": {
          "background_save": true,
          "base_uri": "https://localhost:8080/"
        },
        "id": "L7zVtpyaz3bo",
        "outputId": "c48e8f24-4e2f-4fa6-d37b-8e0318b34dfe"
      },
      "outputs": [
        {
          "metadata": {
            "tags": null
          },
          "name": "stdout",
          "output_type": "stream",
          "text": [
            "Bem-vindo ao sistema de controle de estoque!\n",
            "Escolha uma opção:\n",
            "1 - Mostrar a lista de produtos e quantidades\n",
            "2 - Alterar um produto por outro\n",
            "3 - Adicionar mais produtos à lista\n",
            "4 - Sair do sistema\n",
            "Qual produto você quer adicionar?\n",
            "Qual é a quantidade do produto?\n",
            "Você adicionou 500 Lençol à lista.\n",
            "Escolha uma nova opção:\n",
            "Lista de produtos e quantidades:\n",
            "- Toalha de banho: 5\n",
            "- Lençol: 500\n",
            "Escolha uma nova opção:\n",
            "Qual produto você quer adicionar?\n",
            "Qual é a quantidade do produto?\n",
            "Você adicionou 1000 fronhas à lista.\n",
            "Escolha uma nova opção:\n",
            "Lista de produtos e quantidades:\n",
            "- Toalha de banho: 5\n",
            "- Lençol: 500\n",
            "- fronhas: 1000\n",
            "Escolha uma nova opção:\n",
            "Qual produto você quer adicionar?\n",
            "Qual é a quantidade do produto?\n"
          ]
        }
      ],
      "source": [
        "# Sistema de controle de estoque\n",
        "\n",
        "# Lista inicial de produtos e quantidades\n",
        "estoque = {\"Toalha de banho\": 5}\n",
        "\n",
        "# Função para mostrar a lista de produtos e quantidades\n",
        "def mostrar_estoque():\n",
        "  print(\"Lista de produtos e quantidades:\")\n",
        "  for produto, quantidade in estoque.items():\n",
        "    print(f\"- {produto}: {quantidade}\")\n",
        "\n",
        "# Função para alterar um produto por outro\n",
        "def alterar_produto():\n",
        "  print(\"Qual produto você quer alterar?\")\n",
        "  produto_antigo = input()\n",
        "  if produto_antigo in estoque:\n",
        "    print(f\"Quantos {produto_antigo} você quer substituir?\")\n",
        "    quantidade = int(input())\n",
        "    if quantidade <= estoque[produto_antigo]:\n",
        "      print(f\"Qual é o novo produto?\")\n",
        "      produto_novo = input()\n",
        "      print(f\"Qual é a quantidade do novo produto?\")\n",
        "      quantidade_nova = int(input())\n",
        "      estoque[produto_antigo] -= quantidade\n",
        "      if estoque[produto_antigo] == 0:\n",
        "        del estoque[produto_antigo]\n",
        "      if produto_novo in estoque:\n",
        "        estoque[produto_novo] += quantidade_nova\n",
        "      else:\n",
        "        estoque[produto_novo] = quantidade_nova\n",
        "      print(f\"Você alterou {quantidade} {produto_antigo} por {quantidade_nova} {produto_novo}.\")\n",
        "    else:\n",
        "      print(f\"Você não tem {quantidade} {produto_antigo} disponíveis.\")\n",
        "  else:\n",
        "    print(f\"Você não tem {produto_antigo} na lista.\")\n",
        "\n",
        "# Função para adicionar mais produtos à lista\n",
        "def adicionar_produto():\n",
        "  print(\"Qual produto você quer adicionar?\")\n",
        "  produto = input()\n",
        "  print(f\"Qual é a quantidade do produto?\")\n",
        "  quantidade = int(input())\n",
        "  if produto in estoque:\n",
        "    estoque[produto] += quantidade\n",
        "  else:\n",
        "    estoque[produto] = quantidade\n",
        "  print(f\"Você adicionou {quantidade} {produto} à lista.\")\n",
        "\n",
        "# Menu principal\n",
        "print(\"Bem-vindo ao sistema de controle de estoque!\")\n",
        "print(\"Escolha uma opção:\")\n",
        "print(\"1 - Mostrar a lista de produtos e quantidades\")\n",
        "print(\"2 - Alterar um produto por outro\")\n",
        "print(\"3 - Adicionar mais produtos à lista\")\n",
        "print(\"4 - Sair do sistema\")\n",
        "\n",
        "opcao = int(input())\n",
        "\n",
        "while opcao != 4:\n",
        "  if opcao == 1:\n",
        "    mostrar_estoque()\n",
        "  elif opcao == 2:\n",
        "    alterar_produto()\n",
        "  elif opcao == 3:\n",
        "    adicionar_produto()\n",
        "  else:\n",
        "    print(\"Opção inválida.\")\n",
        "\n",
        "  print(\"Escolha uma nova opção:\")\n",
        "  opcao = int(input())\n",
        "\n",
        "print(\"Obrigado por usar o sistema de controle de estoque!\")\n",
        "\n"
      ]
    }
  ],
  "metadata": {
    "colab": {
      "provenance": [],
      "authorship_tag": "ABX9TyNvvtuCEAI6NHL8eWQVckBx",
      "include_colab_link": true
    },
    "kernelspec": {
      "display_name": "Python 3",
      "name": "python3"
    },
    "language_info": {
      "name": "python"
    }
  },
  "nbformat": 4,
  "nbformat_minor": 0
}